{
 "cells": [
  {
   "cell_type": "code",
   "execution_count": 1,
   "id": "677abeef-faa6-4703-81d8-b133db9e550b",
   "metadata": {},
   "outputs": [
    {
     "name": "stdin",
     "output_type": "stream",
     "text": [
      "Enter Employee Name:  abbass\n",
      "Enter Employee ID:  001\n",
      "Enter Basic Pay:  25000\n",
      "Enter Location (Metro/Non-Metro):  metro\n"
     ]
    },
    {
     "name": "stdout",
     "output_type": "stream",
     "text": [
      "\n",
      "--- Salary Details ---\n",
      "Employee Name: abbass\n",
      "Employee ID: 001\n",
      "Basic Pay: 25000.0\n",
      "HRA: 6250.0\n",
      "DA: 3750.0\n",
      "EPF: 1800\n",
      "Gross Salary: 35000.0\n",
      "Net Salary: 33200.0\n"
     ]
    }
   ],
   "source": [
    "# Simplified Salary Calculation System\n",
    "\n",
    "# Input employee details\n",
    "employee_name = input(\"Enter Employee Name: \")\n",
    "employee_id = input(\"Enter Employee ID: \")\n",
    "basic_pay = float(input(\"Enter Basic Pay: \"))\n",
    "location = input(\"Enter Location (Metro/Non-Metro): \").lower()\n",
    "\n",
    "# Calculate HRA, DA, and EPF\n",
    "hra = 0.25 * basic_pay if basic_pay > 10000 else 0.20 * basic_pay\n",
    "da = 0.15 * basic_pay\n",
    "epf = min(0.12 * basic_pay, 1800)\n",
    "\n",
    "# Calculate Gross and Net Salary\n",
    "gross_salary = basic_pay + hra + da\n",
    "net_salary = gross_salary - epf\n",
    "\n",
    "# Display Salary Details\n",
    "print(\"\\n--- Salary Details ---\")\n",
    "print(f\"Employee Name: {employee_name}\")\n",
    "print(f\"Employee ID: {employee_id}\")\n",
    "print(f\"Basic Pay: {basic_pay}\")\n",
    "print(f\"HRA: {hra}\")\n",
    "print(f\"DA: {da}\")\n",
    "print(f\"EPF: {epf}\")\n",
    "print(f\"Gross Salary: {gross_salary}\")\n",
    "print(f\"Net Salary: {net_salary}\")\n"
   ]
  },
  {
   "cell_type": "code",
   "execution_count": null,
   "id": "f0f61a0a-d385-4894-a8fd-a41c93e468ab",
   "metadata": {},
   "outputs": [],
   "source": []
  }
 ],
 "metadata": {
  "kernelspec": {
   "display_name": "Python 3 (ipykernel)",
   "language": "python",
   "name": "python3"
  },
  "language_info": {
   "codemirror_mode": {
    "name": "ipython",
    "version": 3
   },
   "file_extension": ".py",
   "mimetype": "text/x-python",
   "name": "python",
   "nbconvert_exporter": "python",
   "pygments_lexer": "ipython3",
   "version": "3.12.4"
  }
 },
 "nbformat": 4,
 "nbformat_minor": 5
}
